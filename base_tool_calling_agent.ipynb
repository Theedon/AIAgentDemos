{
  "nbformat": 4,
  "nbformat_minor": 0,
  "metadata": {
    "colab": {
      "provenance": [],
      "authorship_tag": "ABX9TyO2PqjrN1UjNdko0hObmwHH",
      "include_colab_link": true
    },
    "kernelspec": {
      "name": "python3",
      "display_name": "Python 3"
    },
    "language_info": {
      "name": "python"
    }
  },
  "cells": [
    {
      "cell_type": "markdown",
      "metadata": {
        "id": "view-in-github",
        "colab_type": "text"
      },
      "source": [
        "<a href=\"https://colab.research.google.com/github/Theedon/AIAgentDemos/blob/main/LLMQuickTest.ipynb\" target=\"_parent\"><img src=\"https://colab.research.google.com/assets/colab-badge.svg\" alt=\"Open In Colab\"/></a>"
      ]
    },
    {
      "cell_type": "code",
      "source": [
        "%%capture\n",
        "\n",
        "!pip install  langchain_experimental langchain_openai langchain_google_community\n",
        "!pip install --upgrade openai\n",
        "!pip install -qU httpx"
      ],
      "metadata": {
        "collapsed": true,
        "id": "m_bwfnw-E_YC"
      },
      "execution_count": 1,
      "outputs": []
    },
    {
      "cell_type": "code",
      "source": [
        "import os\n",
        "from google.colab import userdata\n",
        "\n",
        "os.environ[\"AZURE_OPENAI_ENDPOINT\"] = userdata.get('AZURE_OPENAI_ENDPOINT')\n",
        "os.environ[\"AZURE_OPENAI_API_KEY\"] = userdata.get('AZURE_OPENAI_API_KEY')\n",
        "os.environ[\"OPENAI_API_VERSION\"] = userdata.get('OPENAI_API_VERSION')\n",
        "os.environ[\"OPENAI_API_KEY\"] = userdata.get('OPENAI_API_KEY')\n",
        "os.environ[\"GOOGLE_API_KEY\"] = userdata.get('GOOGLE_API_KEY')\n",
        "os.environ[\"GOOGLE_CSE_ID\"] = userdata.get('GOOGLE_CSE_ID')"
      ],
      "metadata": {
        "id": "F5wG7BdJRfw5"
      },
      "execution_count": 2,
      "outputs": []
    },
    {
      "cell_type": "code",
      "execution_count": 3,
      "metadata": {
        "colab": {
          "base_uri": "https://localhost:8080/"
        },
        "id": "8DYLNj2yEqC1",
        "outputId": "4d070dac-dc1a-40f5-8b32-e6f0cf186370"
      },
      "outputs": [
        {
          "output_type": "stream",
          "name": "stderr",
          "text": [
            "WARNING:langchain_experimental.utilities.python:Python REPL can execute arbitrary code. Use with caution.\n"
          ]
        },
        {
          "output_type": "stream",
          "name": "stdout",
          "text": [
            "Tool Result: [[0.74506747 0.38786141 0.16348148 0.45415955]\n",
            " [0.98573118 0.12292858 0.57886413 0.87184194]\n",
            " [0.53582739 0.96790169 0.13380741 0.9148603 ]]\n",
            "\n"
          ]
        }
      ],
      "source": [
        "# prompt: generate boilerplate langchain code to test pfrom langchain_core.tools import Tool\n",
        "# from langchain_experimental.utilities import PythonREPL\n",
        "\n",
        "from langchain_core.tools import Tool\n",
        "from langchain_experimental.utilities import PythonREPL\n",
        "\n",
        "import dotenv\n",
        "from langchain_core.tools import StructuredTool\n",
        "from langchain_google_community import GoogleSearchAPIWrapper\n",
        "\n",
        "search = GoogleSearchAPIWrapper()\n",
        "\n",
        "google_search = StructuredTool.from_function(\n",
        "    name=\"google_search\",\n",
        "    description=\"Search Google for recent results.\",\n",
        "    func=search.run,\n",
        ")\n",
        "\n",
        "python_repl = PythonREPL()\n",
        "\n",
        "tools = [\n",
        "    Tool(\n",
        "        name=\"python_repl\",\n",
        "        func=python_repl.run,\n",
        "        description=\"A Python shell. Use this to execute python code.\",\n",
        "    ),\n",
        "    # google_search\n",
        "]\n",
        "\n",
        "\n",
        "# Example using the tool\n",
        "# You would typically integrate this into a larger LangChain application.\n",
        "# Here we just demonstrate how to use a tool directly\n",
        "tool_result = python_repl.run(\"import numpy as np; print(np.random.rand(3,4))\")\n",
        "print(f\"Tool Result: {tool_result}\")\n"
      ]
    },
    {
      "cell_type": "code",
      "source": [
        "from google.colab import userdata\n",
        "from langchain_openai import ChatOpenAI\n",
        "from langchain.llms import OpenAI\n",
        "\n",
        "from langchain_openai import (\n",
        "    AzureChatOpenAI,\n",
        "    AzureOpenAIEmbeddings,\n",
        ")\n",
        "\n",
        "# LLM = AzureChatOpenAI(\n",
        "#     azure_deployment=\"4o-mini-deploy\",\n",
        "#     # cache=redis_cache,\n",
        "# )\n",
        "LLM = ChatOpenAI(model=\"gpt-3.5-turbo\", temperature=0)\n",
        "# LLM = ChatOpenAI(model=\"gpt-4o-mini\", temperature=0)"
      ],
      "metadata": {
        "id": "IuZZkml9GJO6"
      },
      "execution_count": 8,
      "outputs": []
    },
    {
      "cell_type": "code",
      "source": [
        "from langchain_core.prompts import ChatPromptTemplate\n",
        "\n",
        "def get_prompt_for_openai_functions_agent():\n",
        "    prompt = ChatPromptTemplate.from_messages(\n",
        "        [\n",
        "            (\"system\", \"You are a helpful assistant\"),\n",
        "            (\"placeholder\", \"{chat_history}\"),\n",
        "            (\"human\", \"{input}\"),\n",
        "            (\"placeholder\", \"{agent_scratchpad}\"),\n",
        "        ]\n",
        "    )\n",
        "    return prompt"
      ],
      "metadata": {
        "id": "n6nir3_dGsew"
      },
      "execution_count": 9,
      "outputs": []
    },
    {
      "cell_type": "code",
      "source": [
        "# prompt: write the code to create an agent that uses the pythonREPL tool\n",
        "\n",
        "from langchain.agents import load_tools\n",
        "from langchain.agents import initialize_agent\n",
        "from langchain.agents import AgentType\n",
        "from langchain.llms import OpenAI\n",
        "from langchain.agents import (\n",
        "    AgentExecutor,\n",
        "    # create_openai_functions_agent,\n",
        "    create_tool_calling_agent,\n",
        ")\n",
        "\n",
        "# Initialize the language model\n",
        "llm = LLM\n",
        "\n",
        "# Load the tools (including the Python REPL tool)\n",
        "# tools = tools\n",
        "prompt = get_prompt_for_openai_functions_agent()\n",
        "agent = create_tool_calling_agent(\n",
        "        llm=llm,\n",
        "        tools=tools,\n",
        "        prompt=prompt,\n",
        "    )\n",
        "\n",
        "#new agent executor\n",
        "\n",
        "\n",
        "agent_executor = AgentExecutor(\n",
        "    agent=agent,\n",
        "    tools=tools,\n",
        "    verbose=True,\n",
        "    handle_parsing_errors=True,\n",
        "    return_intermediate_steps=True,  # noqa: F821\n",
        ")"
      ],
      "metadata": {
        "id": "mUXU2VWnE45A"
      },
      "execution_count": 10,
      "outputs": []
    },
    {
      "cell_type": "code",
      "source": [
        "# Example interaction with the agent\n",
        "res = agent_executor.invoke({\"input\": \"can you find the area of a circle with radius 5 \"})\n",
        "print(res)"
      ],
      "metadata": {
        "colab": {
          "base_uri": "https://localhost:8080/"
        },
        "id": "iLLTT_qDFOh_",
        "outputId": "42a64682-5f41-45f6-e45f-144745441adb"
      },
      "execution_count": 11,
      "outputs": [
        {
          "output_type": "stream",
          "name": "stdout",
          "text": [
            "\n",
            "\n",
            "\u001b[1m> Entering new AgentExecutor chain...\u001b[0m\n",
            "\u001b[32;1m\u001b[1;3m\n",
            "Invoking: `python_repl` with `import math\n",
            "\n",
            "radius = 5\n",
            "area = math.pi * radius**2\n",
            "area`\n",
            "\n",
            "\n",
            "\u001b[0m\u001b[36;1m\u001b[1;3m\u001b[0m\u001b[32;1m\u001b[1;3mThe area of a circle with a radius of 5 is approximately 78.54 square units.\u001b[0m\n",
            "\n",
            "\u001b[1m> Finished chain.\u001b[0m\n",
            "{'input': 'can you find the area of a circle with radius 5 ', 'output': 'The area of a circle with a radius of 5 is approximately 78.54 square units.', 'intermediate_steps': [(ToolAgentAction(tool='python_repl', tool_input='import math\\n\\nradius = 5\\narea = math.pi * radius**2\\narea', log='\\nInvoking: `python_repl` with `import math\\n\\nradius = 5\\narea = math.pi * radius**2\\narea`\\n\\n\\n', message_log=[AIMessageChunk(content='', additional_kwargs={'tool_calls': [{'index': 0, 'id': 'call_Skfdc6RGkZwRQqTbVbbRSifM', 'function': {'arguments': '{\"__arg1\":\"import math\\\\n\\\\nradius = 5\\\\narea = math.pi * radius**2\\\\narea\"}', 'name': 'python_repl'}, 'type': 'function'}]}, response_metadata={'finish_reason': 'tool_calls', 'model_name': 'gpt-3.5-turbo-0125'}, id='run-ff412ba4-228b-485a-a107-5844a0f893bf', tool_calls=[{'name': 'python_repl', 'args': {'__arg1': 'import math\\n\\nradius = 5\\narea = math.pi * radius**2\\narea'}, 'id': 'call_Skfdc6RGkZwRQqTbVbbRSifM', 'type': 'tool_call'}], tool_call_chunks=[{'name': 'python_repl', 'args': '{\"__arg1\":\"import math\\\\n\\\\nradius = 5\\\\narea = math.pi * radius**2\\\\narea\"}', 'id': 'call_Skfdc6RGkZwRQqTbVbbRSifM', 'index': 0, 'type': 'tool_call_chunk'}])], tool_call_id='call_Skfdc6RGkZwRQqTbVbbRSifM'), '')]}\n"
          ]
        }
      ]
    },
    {
      "cell_type": "code",
      "source": [
        "\n"
      ],
      "metadata": {
        "id": "7TkmMpXCILSF"
      },
      "execution_count": 11,
      "outputs": []
    }
  ]
}