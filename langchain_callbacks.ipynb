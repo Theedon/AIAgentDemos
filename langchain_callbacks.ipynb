{
  "nbformat": 4,
  "nbformat_minor": 0,
  "metadata": {
    "colab": {
      "provenance": [],
      "authorship_tag": "ABX9TyNROr2d7M5uat3cv9GvCR9M",
      "include_colab_link": true
    },
    "kernelspec": {
      "name": "python3",
      "display_name": "Python 3"
    },
    "language_info": {
      "name": "python"
    }
  },
  "cells": [
    {
      "cell_type": "markdown",
      "metadata": {
        "id": "view-in-github",
        "colab_type": "text"
      },
      "source": [
        "<a href=\"https://colab.research.google.com/github/Theedon/AIAgentDemos/blob/main/langchain_callbacks.ipynb\" target=\"_parent\"><img src=\"https://colab.research.google.com/assets/colab-badge.svg\" alt=\"Open In Colab\"/></a>"
      ]
    },
    {
      "cell_type": "code",
      "source": [
        "%%capture\n",
        "\n",
        "!pip install  langchain_experimental langchain_openai langchain_google_community\n",
        "!pip install --upgrade openai\n",
        "!pip install -qU httpx"
      ],
      "metadata": {
        "collapsed": true,
        "id": "m_bwfnw-E_YC"
      },
      "execution_count": null,
      "outputs": []
    },
    {
      "cell_type": "markdown",
      "source": [
        "## Initialize Agent and Functions"
      ],
      "metadata": {
        "id": "zZIazDI35QCK"
      }
    },
    {
      "cell_type": "code",
      "source": [
        "import os\n",
        "from google.colab import userdata\n",
        "\n",
        "os.environ[\"AZURE_OPENAI_ENDPOINT\"] = userdata.get('AZURE_OPENAI_ENDPOINT')\n",
        "os.environ[\"AZURE_OPENAI_API_KEY\"] = userdata.get('AZURE_OPENAI_API_KEY')\n",
        "os.environ[\"OPENAI_API_VERSION\"] = userdata.get('OPENAI_API_VERSION')\n",
        "os.environ[\"OPENAI_API_KEY\"] = userdata.get('OPENAI_API_KEY')\n",
        "os.environ[\"GOOGLE_API_KEY\"] = userdata.get('GOOGLE_API_KEY')\n",
        "os.environ[\"GOOGLE_CSE_ID\"] = userdata.get('GOOGLE_CSE_ID')"
      ],
      "metadata": {
        "id": "F5wG7BdJRfw5"
      },
      "execution_count": null,
      "outputs": []
    },
    {
      "cell_type": "code",
      "source": [
        "import os\n",
        "charts_dir = \"charts\"\n",
        "if not os.path.exists(charts_dir):\n",
        "  os.makedirs(charts_dir)"
      ],
      "metadata": {
        "id": "Sm4I8cAnuloU"
      },
      "execution_count": null,
      "outputs": []
    },
    {
      "cell_type": "code",
      "source": [
        "from langchain.tools import BaseTool\n",
        "import os\n",
        "import ast\n",
        "import matplotlib.pyplot as plt\n",
        "import pandas as pd\n",
        "import numpy as np\n",
        "from datetime import datetime\n",
        "import uuid\n",
        "\n",
        "class CustomPythonReplTool(BaseTool):\n",
        "    name: str = \"custom_python_repl\"\n",
        "    description: str = \"A custom REPL tool for executing Python code. Use this to evaluate python scripts and return results.\"\n",
        "\n",
        "    def _run(self, code: str) -> str:\n",
        "        \"\"\"Execute python code safely and return the output.\"\"\"\n",
        "        try:\n",
        "            tree = ast.parse(code)\n",
        "            last_node = tree.body[-1] if tree.body else None\n",
        "\n",
        "            # Capture the last expression's result\n",
        "            if isinstance(last_node, ast.Expr):\n",
        "                target = ast.Name(id=\"_result\", ctx=ast.Store())\n",
        "                assign = ast.Assign(targets=[target], value=last_node.value)\n",
        "                tree.body[-1] = ast.fix_missing_locations(assign)\n",
        "\n",
        "            local_namespace = {}\n",
        "            compiled_code = compile(tree, filename=\"<ast>\", mode=\"exec\")\n",
        "            exec(compiled_code, {\"__builtins__\": __builtins__}, local_namespace)\n",
        "\n",
        "            # Check if the code includes charting\n",
        "            if plt.get_fignums() and plt.gca().has_data():\n",
        "                chart_path = os.path.join(os.getcwd(), \"charts\")\n",
        "                if not os.path.exists(chart_path):\n",
        "                    os.makedirs(chart_path)  # Create chart directory if it doesn't exist\n",
        "\n",
        "                # Generate a unique name for the chart\n",
        "                timestamp = datetime.now().strftime(\"%Y%m%d_%H%M%S\")\n",
        "                unique_id = uuid.uuid4().hex[:8]\n",
        "                chart_file = os.path.join(chart_path, f\"chart_{timestamp}_{unique_id}.png\")\n",
        "\n",
        "                # Save the chart if any\n",
        "                plt.savefig(chart_file)\n",
        "                plt.close()  # Close the plot to clear matplotlib state\n",
        "                return f\"Chart saved at {chart_file}\"\n",
        "\n",
        "            result = local_namespace.get(\"_result\", \"no result returned\")\n",
        "            return str(result)\n",
        "\n",
        "        except Exception as e:\n",
        "            return f\"Error: {str(e)}\"\n",
        "\n",
        "        finally:\n",
        "            # Ensure the matplotlib state is reset for subsequent calls\n",
        "            plt.clf()\n",
        "            plt.close('all')\n",
        "\n",
        "    async def _arun(self, code: str) -> str:\n",
        "        raise NotImplementedError(\"Asynchronous execution is not implemented yet.\")\n"
      ],
      "metadata": {
        "id": "P2iyAqSPPQTt"
      },
      "execution_count": null,
      "outputs": []
    },
    {
      "cell_type": "code",
      "execution_count": null,
      "metadata": {
        "colab": {
          "base_uri": "https://localhost:8080/"
        },
        "id": "8DYLNj2yEqC1",
        "outputId": "db7ac812-af47-4703-b58c-b1ed2f1896f7"
      },
      "outputs": [
        {
          "output_type": "stream",
          "name": "stderr",
          "text": [
            "WARNING:langchain_experimental.utilities.python:Python REPL can execute arbitrary code. Use with caution.\n"
          ]
        },
        {
          "output_type": "stream",
          "name": "stdout",
          "text": [
            "Query: 2 + 2\n",
            "Tool Result: \n",
            "\n",
            "Query: 'Hello' + ' ' + 'World'\n",
            "Tool Result: \n",
            "\n",
            "Query: [1, 2, 3] + [4, 5, 6]\n",
            "Tool Result: \n",
            "\n",
            "Query: {'name': 'Alice', 'age': 30}['name']\n",
            "Tool Result: \n",
            "\n",
            "Query: \n",
            "def greet(name):\n",
            "    return f'Hello, {name}!'\n",
            "greet('John')\n",
            "\n",
            "Tool Result: \n",
            "\n"
          ]
        }
      ],
      "source": [
        "from langchain_core.tools import Tool\n",
        "from langchain_experimental.utilities import PythonREPL\n",
        "\n",
        "import dotenv\n",
        "from langchain_core.tools import StructuredTool\n",
        "from langchain_google_community import GoogleSearchAPIWrapper\n",
        "\n",
        "search = GoogleSearchAPIWrapper()\n",
        "\n",
        "google_search = StructuredTool.from_function(\n",
        "    name=\"google_search\",\n",
        "    description=\"Search Google for recent results.\",\n",
        "    func=search.run,\n",
        ")\n",
        "\n",
        "python_repl = PythonREPL()\n",
        "custom_repl_tool = CustomPythonReplTool()\n",
        "\n",
        "tools = [\n",
        "    custom_repl_tool,\n",
        "    # Tool(\n",
        "    #     name=\"python_repl\",\n",
        "    #     func=python_repl.run,\n",
        "    #     description=\"A Python shell. Use this to execute python code.\",\n",
        "    # ),\n",
        "    # google_search,\n",
        "]\n",
        "\n",
        "\n",
        "queries = [\n",
        "    \"2 + 2\",                             # Basic arithmetic\n",
        "    \"'Hello' + ' ' + 'World'\",           # String concatenation\n",
        "    \"[1, 2, 3] + [4, 5, 6]\",             # List operations\n",
        "    \"{'name': 'Alice', 'age': 30}['name']\",  # Dictionary access\n",
        "    \"\"\"\n",
        "def greet(name):\n",
        "    return f'Hello, {name}!'\n",
        "greet('John')\n",
        "\"\"\"  # Function definition and call\n",
        "]\n",
        "\n",
        "# Run the tool for each query and print results\n",
        "for query in queries:\n",
        "    # tool_result = python_repl.run(query)\n",
        "    tool_result = python_repl.run(query)\n",
        "    print(f\"Query: {query}\\nTool Result: {tool_result}\\n\")\n"
      ]
    },
    {
      "cell_type": "code",
      "source": [
        "from google.colab import userdata\n",
        "from langchain_openai import ChatOpenAI\n",
        "from langchain.llms import OpenAI\n",
        "\n",
        "from langchain_openai import (\n",
        "    AzureChatOpenAI,\n",
        "    AzureOpenAIEmbeddings,\n",
        ")\n",
        "\n",
        "LLM = AzureChatOpenAI(\n",
        "    azure_deployment=\"4o-mini-deploy\",\n",
        "    # cache=redis_cache,\n",
        ")\n",
        "# LLM = ChatOpenAI(model=\"gpt-3.5-turbo\", temperature=0)\n",
        "# LLM = ChatOpenAI(model=\"gpt-4o-mini\", temperature=0)"
      ],
      "metadata": {
        "id": "IuZZkml9GJO6"
      },
      "execution_count": null,
      "outputs": []
    },
    {
      "cell_type": "code",
      "source": [
        "from langchain_core.prompts import ChatPromptTemplate\n",
        "\n",
        "def get_prompt_for_openai_functions_agent():\n",
        "    prompt = ChatPromptTemplate.from_messages(\n",
        "        [\n",
        "            (\"system\", \"You are a helpful assistant\"),\n",
        "            (\"placeholder\", \"{chat_history}\"),\n",
        "            (\"human\", \"{input}\"),\n",
        "            (\"placeholder\", \"{agent_scratchpad}\"),\n",
        "        ]\n",
        "    )\n",
        "    return prompt"
      ],
      "metadata": {
        "id": "n6nir3_dGsew"
      },
      "execution_count": null,
      "outputs": []
    },
    {
      "cell_type": "code",
      "source": [
        "from langchain.callbacks.base import BaseCallbackHandler\n",
        "from uuid import UUID\n",
        "output_store = []\n",
        "from typing import Dict, Any, Optional, List, Union\n",
        "from langchain.schema import AgentAction, AgentFinish, BaseMessage, LLMResult\n",
        "\n",
        "class DatabaseCallback(BaseCallbackHandler):\n",
        "    def on_agent_finish(self, output, **kwargs):\n",
        "        \"\"\"\n",
        "        This method is triggered when the agent finishes its execution.\n",
        "\n",
        "        Args:\n",
        "            output (dict): The output from the agent's execution.\n",
        "            kwargs: Additional context data.\n",
        "        \"\"\"\n",
        "        # Save the agent's output to the database\n",
        "        result = output.return_values.get(\"output\")\n",
        "        if result:\n",
        "            print(result)\n",
        "            self.save_to_database(result)\n",
        "\n",
        "    def on_chain_start(self, serialized: Dict[str, Any], inputs: Dict[str, Any], **kwargs: Any) -> None:\n",
        "        print(\"Callback: on_chain_start triggered\")\n",
        "\n",
        "    def on_chain_end(self, outputs: Dict[str, Any], **kwargs: Any) -> None:\n",
        "        print(\"Callback: on_chain_end triggered\")\n",
        "\n",
        "    def on_chain_error(self, error: Union[Exception, KeyboardInterrupt], **kwargs: Any) -> None:\n",
        "        print(f\"Callback: on_chain_error triggered with error: {error}\")\n",
        "        print(f\"Callback: on_text triggered with text: {error}\")\n",
        "\n",
        "    def on_agent_action(self, action: AgentAction, **kwargs: Any) -> None:\n",
        "        print(f\"Callback: on_agent_action triggered with action: {action}\")\n",
        "\n",
        "    def save_to_database(self, result):\n",
        "        # database saving logic here\n",
        "        output_store.append(result)\n",
        "        # print(output)"
      ],
      "metadata": {
        "id": "JcCuoAF7I2Qi"
      },
      "execution_count": null,
      "outputs": []
    },
    {
      "cell_type": "code",
      "source": [
        "from typing import Dict, Any, List, Union, Optional\n",
        "from langchain.schema import AgentAction, AgentFinish, BaseMessage, LLMResult\n",
        "\n",
        "class ExperimentCallbackHandler(BaseCallbackHandler):\n",
        "    \"\"\"Custom callback handler with print statements for debugging.\"\"\"\n",
        "\n",
        "    def on_chain_start(self, serialized: Dict[str, Any], inputs: Dict[str, Any], **kwargs: Any) -> None:\n",
        "      print(\"Callback: on_chain_start triggered\")\n",
        "\n",
        "    def on_chain_end(self, outputs: Dict[str, Any], **kwargs: Any) -> None:\n",
        "        print(\"Callback: on_chain_end triggered\")\n",
        "\n",
        "    def on_chain_error(self, error: Union[Exception, KeyboardInterrupt], **kwargs: Any) -> None:\n",
        "        print(f\"Callback: on_chain_error triggered with error: {error}\")\n",
        "    def on_agent_action(self, action: AgentAction, **kwargs: Any) -> None:\n",
        "        print(f\"Callback: on_agent_action triggered with action: {action}\")\n",
        "\n",
        "    def on_agent_finish(self, finish: AgentFinish, **kwargs: Any) -> None:\n",
        "        print(f\"Callback: on_agent_finish triggered with result: {finish}\")\n",
        "\n",
        "                #BELOW DO NOT WORK FOR THE create_tool_calling_agent\n",
        "    # def on_llm_start(self, serialized: Dict[str, Any], prompts: List[str], **kwargs: Any) -> None:\n",
        "    #     print(\"Callback: on_llm_start triggered\")\n",
        "\n",
        "    # def on_chat_model_start(self, serialized: Dict[str, Any], messages: List[List[BaseMessage]], **kwargs: Any) -> None:\n",
        "    #     print(\"Callback: on_chat_model_start triggered\")\n",
        "\n",
        "    # def on_llm_new_token(self, token: str, **kwargs: Any) -> None:\n",
        "    #     print(f\"Callback: on_llm_new_token triggered with token: {token}\")\n",
        "\n",
        "    # def on_llm_end(self, response: LLMResult, **kwargs: Any) -> None:\n",
        "    #     print(\"Callback: on_llm_end triggered\")\n",
        "\n",
        "    # def on_llm_error(self, error: Union[Exception, KeyboardInterrupt], **kwargs: Any) -> None:\n",
        "    #     print(f\"Callback: on_llm_error triggered with error: {error}\")\n",
        "\n",
        "\n",
        "    # def on_tool_start(self, serialized: Dict[str, Any], input_str: str, **kwargs: Any) -> None:\n",
        "    #     print(f\"Callback: on_tool_start triggered with input: {input_str}\")\n",
        "\n",
        "    # def on_tool_end(self, output: Any, **kwargs: Any) -> None:\n",
        "    #     print(f\"Callback: on_tool_end triggered with output: {output}\")\n",
        "\n",
        "    # def on_tool_error(self, error: Union[Exception, KeyboardInterrupt], **kwargs: Any) -> None:\n",
        "    #     print(f\"Callback: on_tool_error triggered with error: {error}\")\n",
        "\n",
        "    # def on_text(self, text: str, **kwargs: Any) -> None:\n",
        "    #     print(f\"Callback: on_text triggered with text: {text}\")\n",
        "\n"
      ],
      "metadata": {
        "id": "E7wfwGw9XnMC"
      },
      "execution_count": null,
      "outputs": []
    },
    {
      "cell_type": "code",
      "source": [
        "from langchain.callbacks.base import BaseCallbackHandler\n",
        "from uuid import UUID, uuid4\n",
        "output_store = []\n",
        "from typing import Dict, Any, Optional, List, Union\n",
        "from langchain.schema import AgentAction, AgentFinish, BaseMessage, LLMResult\n",
        "\n",
        "class MetadataCallbackHandler(BaseCallbackHandler):\n",
        "  def __init__(self):\n",
        "    self.metadata = {}\n",
        "\n",
        "  def on_chain_start(self, serialized: Dict[str, Any], inputs: Dict[str, Any], **kwargs: Any) -> None:\n",
        "    print(inputs.get(\"metadata\", {}))\n",
        "    self.metadata = inputs.get(\"metadata\", {})\n",
        "\n",
        "  def on_agent_finish(self, finish: AgentFinish, **kwargs: Any):\n",
        "        # print(\"finish\", finish)\n",
        "        # print(\"kwargs\", kwargs)\n",
        "        # print(\"metadata\", metadata)\n",
        "        print(f\"metadata: {self.metadata}\")\n",
        "        pass\n",
        "\n",
        "  # def on_chain_end(self, outputs: Dict[str, Any], **kwargs: Any) -> None:\n",
        "  #       print(\"outputs\", outputs)\n",
        "  #       print(\"kwargs\", kwargs)\n"
      ],
      "metadata": {
        "id": "qQwXRKGoKU-_"
      },
      "execution_count": null,
      "outputs": []
    },
    {
      "cell_type": "code",
      "source": [
        "from re import VERBOSE\n",
        "# prompt: write the code to create an agent that uses the pythonREPL tool\n",
        "\n",
        "from langchain.agents import load_tools\n",
        "from langchain.agents import initialize_agent\n",
        "from langchain.agents import AgentType\n",
        "from langchain.llms import OpenAI\n",
        "from langchain.agents import (\n",
        "    AgentExecutor,\n",
        "    # create_openai_functions_agent,\n",
        "    create_tool_calling_agent,\n",
        ")\n",
        "from langchain.callbacks.manager import CallbackManager\n",
        "\n",
        "llm = LLM\n",
        "\n",
        "\n",
        "# We can have as many callback managers running simultaneously\n",
        "callback_manager = CallbackManager([\n",
        "                            # ExperimentCallbackHandler(),\n",
        "                            # DatabaseCallback(),\n",
        "                            MetadataCallbackHandler()\n",
        "                             ])\n",
        "\n",
        "prompt = get_prompt_for_openai_functions_agent()\n",
        "agent = create_tool_calling_agent(\n",
        "        llm=llm,\n",
        "        tools=tools,\n",
        "        prompt=prompt,\n",
        "    )\n",
        "\n",
        "\n",
        "# Create a CallbackManager and add the callback\n",
        "\n",
        "agent_executor = AgentExecutor(\n",
        "    agent=agent,\n",
        "    tools=tools,\n",
        "    callback_manager = callback_manager,\n",
        "    verbose=True,\n",
        "    handle_parsing_errors=True,\n",
        "    return_intermediate_steps=True,  # noqa: F821\n",
        ")"
      ],
      "metadata": {
        "id": "mUXU2VWnE45A"
      },
      "execution_count": null,
      "outputs": []
    },
    {
      "cell_type": "code",
      "source": [
        "from langchain.schema.runnable import RunnableConfig\n",
        "\n",
        "\n",
        "def run_demo(agent_executor: AgentExecutor, query: list | str):\n",
        "    query_list = [query] if isinstance(query, str) else query\n",
        "    metadata = {\"user_id\": \"12345\", \"task_id\": \"abc123\"}\n",
        "    config = RunnableConfig(metadata = metadata)\n",
        "    for i in range(len(query_list)):\n",
        "        res = agent_executor.invoke(input =  {\"input\": query_list[i], \"metadata\": metadata}, config=config)\n",
        "        # res = agent_executor.invoke({\"input\": query_list[i]}\n",
        "\n",
        "        # Print the result\n",
        "        print(f\"Result for query {i+1}: {res}\")\n",
        "\n",
        "        # Demarcation line after each result\n",
        "        print(\"\\n\" + \"=\"*50 + f\" End of Query {i+1} \" + \"=\"*50 + \"\\n\")\n",
        "        # return res\n"
      ],
      "metadata": {
        "collapsed": true,
        "id": "_aUCdF-8JuBp"
      },
      "execution_count": null,
      "outputs": []
    },
    {
      "cell_type": "code",
      "source": [
        "# Example interaction with the agent\n",
        "query_list = [\n",
        "              \"Convert 'hello world' to uppercase.\",\n",
        "              \"Generate the first 10 prime numbers.\",\n",
        "              \"What is the square root of 420?\",\n",
        "              \"What is today's date (in dd/mm/yyyy) and the day of the week?\",\n",
        "              \"I woke up around 8 o clock this morning, I spent the next quarter of the day washing dishes and the next half of the week working, if today is the 9th of december, when do i finish working\",\n",
        "              \"Fetch the title of the website 'https://medium.com/bitgrit-data-science-publication/openai-code-interpreter-ecda4ff5839c'\",\n",
        "              \"Write a Python snippet to create a file named 'test.txt' and write 'Hello, STELLAR' in it.\",\n",
        "             ]\n",
        "\n",
        "# res = agent_executor.invoke({\"input\": query_list[2]})\n",
        "# print(res)\n",
        "\n",
        "run_demo(agent_executor, query_list)"
      ],
      "metadata": {
        "colab": {
          "base_uri": "https://localhost:8080/"
        },
        "id": "lq-GNdN1J8M8",
        "outputId": "0946eb76-c46c-4d3d-f6d4-fedb340b1b37"
      },
      "execution_count": null,
      "outputs": [
        {
          "output_type": "stream",
          "name": "stdout",
          "text": [
            "{'user_id': '12345', 'task_id': 'abc123'}\n",
            "\n",
            "\n",
            "\u001b[1m> Entering new AgentExecutor chain...\u001b[0m\n",
            "\u001b[32;1m\u001b[1;3m\n",
            "Invoking: `custom_python_repl` with `{'code': \"'hello world'.upper()\"}`\n",
            "\n",
            "\n",
            "\u001b[0m\u001b[36;1m\u001b[1;3mHELLO WORLD\u001b[0mmetadata: {'user_id': '12345', 'task_id': 'abc123'}\n",
            "\u001b[32;1m\u001b[1;3mThe uppercase version of 'hello world' is **HELLO WORLD**.\u001b[0m\n",
            "\n",
            "\u001b[1m> Finished chain.\u001b[0m\n",
            "Result for query 1: {'input': \"Convert 'hello world' to uppercase.\", 'metadata': {'user_id': '12345', 'task_id': 'abc123'}, 'output': \"The uppercase version of 'hello world' is **HELLO WORLD**.\", 'intermediate_steps': [(ToolAgentAction(tool='custom_python_repl', tool_input={'code': \"'hello world'.upper()\"}, log='\\nInvoking: `custom_python_repl` with `{\\'code\\': \"\\'hello world\\'.upper()\"}`\\n\\n\\n', message_log=[AIMessageChunk(content='', additional_kwargs={'tool_calls': [{'index': 0, 'id': 'call_3lcaUFwjjlZMn8yFNIpY4gAw', 'function': {'arguments': '{\"code\":\"\\'hello world\\'.upper()\"}', 'name': 'custom_python_repl'}, 'type': 'function'}]}, response_metadata={'finish_reason': 'tool_calls', 'model_name': 'gpt-4o-mini-2024-07-18', 'system_fingerprint': 'fp_5154047bf2'}, id='run-8601da89-ec01-4f9d-83f0-61c435dde3a8', tool_calls=[{'name': 'custom_python_repl', 'args': {'code': \"'hello world'.upper()\"}, 'id': 'call_3lcaUFwjjlZMn8yFNIpY4gAw', 'type': 'tool_call'}], tool_call_chunks=[{'name': 'custom_python_repl', 'args': '{\"code\":\"\\'hello world\\'.upper()\"}', 'id': 'call_3lcaUFwjjlZMn8yFNIpY4gAw', 'index': 0, 'type': 'tool_call_chunk'}])], tool_call_id='call_3lcaUFwjjlZMn8yFNIpY4gAw'), 'HELLO WORLD')]}\n",
            "\n",
            "================================================== End of Query 1 ==================================================\n",
            "\n",
            "{'user_id': '12345', 'task_id': 'abc123'}\n",
            "\n",
            "\n",
            "\u001b[1m> Entering new AgentExecutor chain...\u001b[0m\n",
            "\u001b[32;1m\u001b[1;3m\n",
            "Invoking: `custom_python_repl` with `{'code': 'def is_prime(num):\\n    if num < 2:\\n        return False\\n    for i in range(2, int(num**0.5) + 1):\\n        if num % i == 0:\\n            return False\\n    return True\\n\\n# Generate the first 10 prime numbers\\nprime_numbers = []\\nnum = 2\\nwhile len(prime_numbers) < 10:\\n    if is_prime(num):\\n        prime_numbers.append(num)\\n    num += 1\\n\\nprime_numbers'}`\n",
            "\n",
            "\n",
            "\u001b[0m\u001b[36;1m\u001b[1;3m[2, 3, 5, 7, 11, 13, 17, 19, 23, 29]\u001b[0mmetadata: {'user_id': '12345', 'task_id': 'abc123'}\n",
            "\u001b[32;1m\u001b[1;3mThe first 10 prime numbers are: [2, 3, 5, 7, 11, 13, 17, 19, 23, 29].\u001b[0m\n",
            "\n",
            "\u001b[1m> Finished chain.\u001b[0m\n",
            "Result for query 2: {'input': 'Generate the first 10 prime numbers.', 'metadata': {'user_id': '12345', 'task_id': 'abc123'}, 'output': 'The first 10 prime numbers are: [2, 3, 5, 7, 11, 13, 17, 19, 23, 29].', 'intermediate_steps': [(ToolAgentAction(tool='custom_python_repl', tool_input={'code': 'def is_prime(num):\\n    if num < 2:\\n        return False\\n    for i in range(2, int(num**0.5) + 1):\\n        if num % i == 0:\\n            return False\\n    return True\\n\\n# Generate the first 10 prime numbers\\nprime_numbers = []\\nnum = 2\\nwhile len(prime_numbers) < 10:\\n    if is_prime(num):\\n        prime_numbers.append(num)\\n    num += 1\\n\\nprime_numbers'}, log=\"\\nInvoking: `custom_python_repl` with `{'code': 'def is_prime(num):\\\\n    if num < 2:\\\\n        return False\\\\n    for i in range(2, int(num**0.5) + 1):\\\\n        if num % i == 0:\\\\n            return False\\\\n    return True\\\\n\\\\n# Generate the first 10 prime numbers\\\\nprime_numbers = []\\\\nnum = 2\\\\nwhile len(prime_numbers) < 10:\\\\n    if is_prime(num):\\\\n        prime_numbers.append(num)\\\\n    num += 1\\\\n\\\\nprime_numbers'}`\\n\\n\\n\", message_log=[AIMessageChunk(content='', additional_kwargs={'tool_calls': [{'index': 0, 'id': 'call_BGPOSxmsehmg0eCJUDSlUNEb', 'function': {'arguments': '{\"code\":\"def is_prime(num):\\\\n    if num < 2:\\\\n        return False\\\\n    for i in range(2, int(num**0.5) + 1):\\\\n        if num % i == 0:\\\\n            return False\\\\n    return True\\\\n\\\\n# Generate the first 10 prime numbers\\\\nprime_numbers = []\\\\nnum = 2\\\\nwhile len(prime_numbers) < 10:\\\\n    if is_prime(num):\\\\n        prime_numbers.append(num)\\\\n    num += 1\\\\n\\\\nprime_numbers\"}', 'name': 'custom_python_repl'}, 'type': 'function'}]}, response_metadata={'finish_reason': 'tool_calls', 'model_name': 'gpt-4o-mini-2024-07-18', 'system_fingerprint': 'fp_f3927aa00d'}, id='run-715881b3-50e7-46bd-b1cc-50b10689e683', tool_calls=[{'name': 'custom_python_repl', 'args': {'code': 'def is_prime(num):\\n    if num < 2:\\n        return False\\n    for i in range(2, int(num**0.5) + 1):\\n        if num % i == 0:\\n            return False\\n    return True\\n\\n# Generate the first 10 prime numbers\\nprime_numbers = []\\nnum = 2\\nwhile len(prime_numbers) < 10:\\n    if is_prime(num):\\n        prime_numbers.append(num)\\n    num += 1\\n\\nprime_numbers'}, 'id': 'call_BGPOSxmsehmg0eCJUDSlUNEb', 'type': 'tool_call'}], tool_call_chunks=[{'name': 'custom_python_repl', 'args': '{\"code\":\"def is_prime(num):\\\\n    if num < 2:\\\\n        return False\\\\n    for i in range(2, int(num**0.5) + 1):\\\\n        if num % i == 0:\\\\n            return False\\\\n    return True\\\\n\\\\n# Generate the first 10 prime numbers\\\\nprime_numbers = []\\\\nnum = 2\\\\nwhile len(prime_numbers) < 10:\\\\n    if is_prime(num):\\\\n        prime_numbers.append(num)\\\\n    num += 1\\\\n\\\\nprime_numbers\"}', 'id': 'call_BGPOSxmsehmg0eCJUDSlUNEb', 'index': 0, 'type': 'tool_call_chunk'}])], tool_call_id='call_BGPOSxmsehmg0eCJUDSlUNEb'), '[2, 3, 5, 7, 11, 13, 17, 19, 23, 29]')]}\n",
            "\n",
            "================================================== End of Query 2 ==================================================\n",
            "\n",
            "{'user_id': '12345', 'task_id': 'abc123'}\n",
            "\n",
            "\n",
            "\u001b[1m> Entering new AgentExecutor chain...\u001b[0m\n",
            "\u001b[32;1m\u001b[1;3m\n",
            "Invoking: `custom_python_repl` with `{'code': 'import math\\nmath.sqrt(420)'}`\n",
            "\n",
            "\n",
            "\u001b[0m\u001b[36;1m\u001b[1;3m20.493901531919196\u001b[0mmetadata: {'user_id': '12345', 'task_id': 'abc123'}\n",
            "\u001b[32;1m\u001b[1;3mThe square root of 420 is approximately 20.49.\u001b[0m\n",
            "\n",
            "\u001b[1m> Finished chain.\u001b[0m\n",
            "Result for query 3: {'input': 'What is the square root of 420?', 'metadata': {'user_id': '12345', 'task_id': 'abc123'}, 'output': 'The square root of 420 is approximately 20.49.', 'intermediate_steps': [(ToolAgentAction(tool='custom_python_repl', tool_input={'code': 'import math\\nmath.sqrt(420)'}, log=\"\\nInvoking: `custom_python_repl` with `{'code': 'import math\\\\nmath.sqrt(420)'}`\\n\\n\\n\", message_log=[AIMessageChunk(content='', additional_kwargs={'tool_calls': [{'index': 0, 'id': 'call_MDrXezwBL0XCmf5gvsEp1u3Z', 'function': {'arguments': '{\"code\":\"import math\\\\nmath.sqrt(420)\"}', 'name': 'custom_python_repl'}, 'type': 'function'}]}, response_metadata={'finish_reason': 'tool_calls', 'model_name': 'gpt-4o-mini-2024-07-18', 'system_fingerprint': 'fp_5154047bf2'}, id='run-c19937b9-ec5a-40c9-96ea-bbe6bf078f95', tool_calls=[{'name': 'custom_python_repl', 'args': {'code': 'import math\\nmath.sqrt(420)'}, 'id': 'call_MDrXezwBL0XCmf5gvsEp1u3Z', 'type': 'tool_call'}], tool_call_chunks=[{'name': 'custom_python_repl', 'args': '{\"code\":\"import math\\\\nmath.sqrt(420)\"}', 'id': 'call_MDrXezwBL0XCmf5gvsEp1u3Z', 'index': 0, 'type': 'tool_call_chunk'}])], tool_call_id='call_MDrXezwBL0XCmf5gvsEp1u3Z'), '20.493901531919196')]}\n",
            "\n",
            "================================================== End of Query 3 ==================================================\n",
            "\n",
            "{'user_id': '12345', 'task_id': 'abc123'}\n",
            "\n",
            "\n",
            "\u001b[1m> Entering new AgentExecutor chain...\u001b[0m\n",
            "\u001b[32;1m\u001b[1;3m\n",
            "Invoking: `custom_python_repl` with `{'code': \"from datetime import datetime\\n\\ntoday = datetime.now()\\ndate_str = today.strftime('%d/%m/%Y')\\nday_of_week = today.strftime('%A')\\n(date_str, day_of_week)\"}`\n",
            "\n",
            "\n",
            "\u001b[0m\u001b[36;1m\u001b[1;3m('22/01/2025', 'Wednesday')\u001b[0mmetadata: {'user_id': '12345', 'task_id': 'abc123'}\n",
            "\u001b[32;1m\u001b[1;3mToday's date is 22/01/2025, and it is a Wednesday.\u001b[0m\n",
            "\n",
            "\u001b[1m> Finished chain.\u001b[0m\n",
            "Result for query 4: {'input': \"What is today's date (in dd/mm/yyyy) and the day of the week?\", 'metadata': {'user_id': '12345', 'task_id': 'abc123'}, 'output': \"Today's date is 22/01/2025, and it is a Wednesday.\", 'intermediate_steps': [(ToolAgentAction(tool='custom_python_repl', tool_input={'code': \"from datetime import datetime\\n\\ntoday = datetime.now()\\ndate_str = today.strftime('%d/%m/%Y')\\nday_of_week = today.strftime('%A')\\n(date_str, day_of_week)\"}, log='\\nInvoking: `custom_python_repl` with `{\\'code\\': \"from datetime import datetime\\\\n\\\\ntoday = datetime.now()\\\\ndate_str = today.strftime(\\'%d/%m/%Y\\')\\\\nday_of_week = today.strftime(\\'%A\\')\\\\n(date_str, day_of_week)\"}`\\n\\n\\n', message_log=[AIMessageChunk(content='', additional_kwargs={'tool_calls': [{'index': 0, 'id': 'call_huiOMWJLFYKxhr9h8JCbFhHu', 'function': {'arguments': '{\"code\":\"from datetime import datetime\\\\n\\\\ntoday = datetime.now()\\\\ndate_str = today.strftime(\\'%d/%m/%Y\\')\\\\nday_of_week = today.strftime(\\'%A\\')\\\\n(date_str, day_of_week)\"}', 'name': 'custom_python_repl'}, 'type': 'function'}]}, response_metadata={'finish_reason': 'tool_calls', 'model_name': 'gpt-4o-mini-2024-07-18', 'system_fingerprint': 'fp_5154047bf2'}, id='run-fade7845-fdc2-45bf-804d-bbbf5a766683', tool_calls=[{'name': 'custom_python_repl', 'args': {'code': \"from datetime import datetime\\n\\ntoday = datetime.now()\\ndate_str = today.strftime('%d/%m/%Y')\\nday_of_week = today.strftime('%A')\\n(date_str, day_of_week)\"}, 'id': 'call_huiOMWJLFYKxhr9h8JCbFhHu', 'type': 'tool_call'}], tool_call_chunks=[{'name': 'custom_python_repl', 'args': '{\"code\":\"from datetime import datetime\\\\n\\\\ntoday = datetime.now()\\\\ndate_str = today.strftime(\\'%d/%m/%Y\\')\\\\nday_of_week = today.strftime(\\'%A\\')\\\\n(date_str, day_of_week)\"}', 'id': 'call_huiOMWJLFYKxhr9h8JCbFhHu', 'index': 0, 'type': 'tool_call_chunk'}])], tool_call_id='call_huiOMWJLFYKxhr9h8JCbFhHu'), \"('22/01/2025', 'Wednesday')\")]}\n",
            "\n",
            "================================================== End of Query 4 ==================================================\n",
            "\n",
            "{'user_id': '12345', 'task_id': 'abc123'}\n",
            "\n",
            "\n",
            "\u001b[1m> Entering new AgentExecutor chain...\u001b[0m\n",
            "\u001b[32;1m\u001b[1;3m\n",
            "Invoking: `custom_python_repl` with `{'code': \"from datetime import datetime, timedelta\\n\\n# Define the current date\\ncurrent_date = datetime(2023, 12, 9)\\n\\n# Calculate quarter of a day and half a week\\nquarter_of_a_day = timedelta(hours=6)  # 6 hours\\nhalf_a_week = timedelta(days=3.5)  # 3.5 days\\n\\n# Calculate when the person finished washing dishes and then working\\nfinished_washing = current_date + quarter_of_a_day\\ndone_working = finished_washing + half_a_week\\n\\ndone_working.strftime('%Y-%m-%d %H:%M:%S')\"}`\n",
            "\n",
            "\n",
            "\u001b[0m\u001b[36;1m\u001b[1;3m2023-12-12 18:00:00\u001b[0mmetadata: {'user_id': '12345', 'task_id': 'abc123'}\n",
            "\u001b[32;1m\u001b[1;3mYou will finish working on December 12, 2023, at 6:00 PM.\u001b[0m\n",
            "\n",
            "\u001b[1m> Finished chain.\u001b[0m\n",
            "Result for query 5: {'input': 'I woke up around 8 o clock this morning, I spent the next quarter of the day washing dishes and the next half of the week working, if today is the 9th of december, when do i finish working', 'metadata': {'user_id': '12345', 'task_id': 'abc123'}, 'output': 'You will finish working on December 12, 2023, at 6:00 PM.', 'intermediate_steps': [(ToolAgentAction(tool='custom_python_repl', tool_input={'code': \"from datetime import datetime, timedelta\\n\\n# Define the current date\\ncurrent_date = datetime(2023, 12, 9)\\n\\n# Calculate quarter of a day and half a week\\nquarter_of_a_day = timedelta(hours=6)  # 6 hours\\nhalf_a_week = timedelta(days=3.5)  # 3.5 days\\n\\n# Calculate when the person finished washing dishes and then working\\nfinished_washing = current_date + quarter_of_a_day\\ndone_working = finished_washing + half_a_week\\n\\ndone_working.strftime('%Y-%m-%d %H:%M:%S')\"}, log='\\nInvoking: `custom_python_repl` with `{\\'code\\': \"from datetime import datetime, timedelta\\\\n\\\\n# Define the current date\\\\ncurrent_date = datetime(2023, 12, 9)\\\\n\\\\n# Calculate quarter of a day and half a week\\\\nquarter_of_a_day = timedelta(hours=6)  # 6 hours\\\\nhalf_a_week = timedelta(days=3.5)  # 3.5 days\\\\n\\\\n# Calculate when the person finished washing dishes and then working\\\\nfinished_washing = current_date + quarter_of_a_day\\\\ndone_working = finished_washing + half_a_week\\\\n\\\\ndone_working.strftime(\\'%Y-%m-%d %H:%M:%S\\')\"}`\\n\\n\\n', message_log=[AIMessageChunk(content='', additional_kwargs={'tool_calls': [{'index': 0, 'id': 'call_VbSVnqeuMWZaPCxw41AgWx0X', 'function': {'arguments': '{\"code\":\"from datetime import datetime, timedelta\\\\n\\\\n# Define the current date\\\\ncurrent_date = datetime(2023, 12, 9)\\\\n\\\\n# Calculate quarter of a day and half a week\\\\nquarter_of_a_day = timedelta(hours=6)  # 6 hours\\\\nhalf_a_week = timedelta(days=3.5)  # 3.5 days\\\\n\\\\n# Calculate when the person finished washing dishes and then working\\\\nfinished_washing = current_date + quarter_of_a_day\\\\ndone_working = finished_washing + half_a_week\\\\n\\\\ndone_working.strftime(\\'%Y-%m-%d %H:%M:%S\\')\"}', 'name': 'custom_python_repl'}, 'type': 'function'}]}, response_metadata={'finish_reason': 'tool_calls', 'model_name': 'gpt-4o-mini-2024-07-18', 'system_fingerprint': 'fp_5154047bf2'}, id='run-7354ce8c-0b97-4bbb-9c86-84d9bf817c51', tool_calls=[{'name': 'custom_python_repl', 'args': {'code': \"from datetime import datetime, timedelta\\n\\n# Define the current date\\ncurrent_date = datetime(2023, 12, 9)\\n\\n# Calculate quarter of a day and half a week\\nquarter_of_a_day = timedelta(hours=6)  # 6 hours\\nhalf_a_week = timedelta(days=3.5)  # 3.5 days\\n\\n# Calculate when the person finished washing dishes and then working\\nfinished_washing = current_date + quarter_of_a_day\\ndone_working = finished_washing + half_a_week\\n\\ndone_working.strftime('%Y-%m-%d %H:%M:%S')\"}, 'id': 'call_VbSVnqeuMWZaPCxw41AgWx0X', 'type': 'tool_call'}], tool_call_chunks=[{'name': 'custom_python_repl', 'args': '{\"code\":\"from datetime import datetime, timedelta\\\\n\\\\n# Define the current date\\\\ncurrent_date = datetime(2023, 12, 9)\\\\n\\\\n# Calculate quarter of a day and half a week\\\\nquarter_of_a_day = timedelta(hours=6)  # 6 hours\\\\nhalf_a_week = timedelta(days=3.5)  # 3.5 days\\\\n\\\\n# Calculate when the person finished washing dishes and then working\\\\nfinished_washing = current_date + quarter_of_a_day\\\\ndone_working = finished_washing + half_a_week\\\\n\\\\ndone_working.strftime(\\'%Y-%m-%d %H:%M:%S\\')\"}', 'id': 'call_VbSVnqeuMWZaPCxw41AgWx0X', 'index': 0, 'type': 'tool_call_chunk'}])], tool_call_id='call_VbSVnqeuMWZaPCxw41AgWx0X'), '2023-12-12 18:00:00')]}\n",
            "\n",
            "================================================== End of Query 5 ==================================================\n",
            "\n",
            "{'user_id': '12345', 'task_id': 'abc123'}\n",
            "\n",
            "\n",
            "\u001b[1m> Entering new AgentExecutor chain...\u001b[0m\n",
            "\u001b[32;1m\u001b[1;3m\n",
            "Invoking: `custom_python_repl` with `{'code': \"import requests\\nfrom bs4 import BeautifulSoup\\n\\nurl = 'https://medium.com/bitgrit-data-science-publication/openai-code-interpreter-ecda4ff5839c'\\nresponse = requests.get(url)\\nsoup = BeautifulSoup(response.content, 'html.parser')\\ntitle = soup.title.string\\ntitle\"}`\n",
            "\n",
            "\n",
            "\u001b[0m\u001b[36;1m\u001b[1;3mBuild your Own ChatGPT Code Interpreter in Python | by Benedict Neo | bitgrit Data Science Publication | Medium\u001b[0mmetadata: {'user_id': '12345', 'task_id': 'abc123'}\n",
            "\u001b[32;1m\u001b[1;3mThe title of the website is: \"Build your Own ChatGPT Code Interpreter in Python | by Benedict Neo | bitgrit Data Science Publication | Medium\".\u001b[0m\n",
            "\n",
            "\u001b[1m> Finished chain.\u001b[0m\n",
            "Result for query 6: {'input': \"Fetch the title of the website 'https://medium.com/bitgrit-data-science-publication/openai-code-interpreter-ecda4ff5839c'\", 'metadata': {'user_id': '12345', 'task_id': 'abc123'}, 'output': 'The title of the website is: \"Build your Own ChatGPT Code Interpreter in Python | by Benedict Neo | bitgrit Data Science Publication | Medium\".', 'intermediate_steps': [(ToolAgentAction(tool='custom_python_repl', tool_input={'code': \"import requests\\nfrom bs4 import BeautifulSoup\\n\\nurl = 'https://medium.com/bitgrit-data-science-publication/openai-code-interpreter-ecda4ff5839c'\\nresponse = requests.get(url)\\nsoup = BeautifulSoup(response.content, 'html.parser')\\ntitle = soup.title.string\\ntitle\"}, log='\\nInvoking: `custom_python_repl` with `{\\'code\\': \"import requests\\\\nfrom bs4 import BeautifulSoup\\\\n\\\\nurl = \\'https://medium.com/bitgrit-data-science-publication/openai-code-interpreter-ecda4ff5839c\\'\\\\nresponse = requests.get(url)\\\\nsoup = BeautifulSoup(response.content, \\'html.parser\\')\\\\ntitle = soup.title.string\\\\ntitle\"}`\\n\\n\\n', message_log=[AIMessageChunk(content='', additional_kwargs={'tool_calls': [{'index': 0, 'id': 'call_NO0bYASFxYD37uXwvKQose9l', 'function': {'arguments': '{\"code\":\"import requests\\\\nfrom bs4 import BeautifulSoup\\\\n\\\\nurl = \\'https://medium.com/bitgrit-data-science-publication/openai-code-interpreter-ecda4ff5839c\\'\\\\nresponse = requests.get(url)\\\\nsoup = BeautifulSoup(response.content, \\'html.parser\\')\\\\ntitle = soup.title.string\\\\ntitle\"}', 'name': 'custom_python_repl'}, 'type': 'function'}]}, response_metadata={'finish_reason': 'tool_calls', 'model_name': 'gpt-4o-mini-2024-07-18', 'system_fingerprint': 'fp_5154047bf2'}, id='run-edb39935-0280-47c3-a34e-1ae7fcf74b36', tool_calls=[{'name': 'custom_python_repl', 'args': {'code': \"import requests\\nfrom bs4 import BeautifulSoup\\n\\nurl = 'https://medium.com/bitgrit-data-science-publication/openai-code-interpreter-ecda4ff5839c'\\nresponse = requests.get(url)\\nsoup = BeautifulSoup(response.content, 'html.parser')\\ntitle = soup.title.string\\ntitle\"}, 'id': 'call_NO0bYASFxYD37uXwvKQose9l', 'type': 'tool_call'}], tool_call_chunks=[{'name': 'custom_python_repl', 'args': '{\"code\":\"import requests\\\\nfrom bs4 import BeautifulSoup\\\\n\\\\nurl = \\'https://medium.com/bitgrit-data-science-publication/openai-code-interpreter-ecda4ff5839c\\'\\\\nresponse = requests.get(url)\\\\nsoup = BeautifulSoup(response.content, \\'html.parser\\')\\\\ntitle = soup.title.string\\\\ntitle\"}', 'id': 'call_NO0bYASFxYD37uXwvKQose9l', 'index': 0, 'type': 'tool_call_chunk'}])], tool_call_id='call_NO0bYASFxYD37uXwvKQose9l'), 'Build your Own ChatGPT Code Interpreter in Python | by Benedict Neo | bitgrit Data Science Publication | Medium')]}\n",
            "\n",
            "================================================== End of Query 6 ==================================================\n",
            "\n",
            "{'user_id': '12345', 'task_id': 'abc123'}\n",
            "\n",
            "\n",
            "\u001b[1m> Entering new AgentExecutor chain...\u001b[0m\n",
            "\u001b[32;1m\u001b[1;3m\n",
            "Invoking: `custom_python_repl` with `{'code': \"with open('test.txt', 'w') as file:\\n    file.write('Hello, STELLAR')\"}`\n",
            "\n",
            "\n",
            "\u001b[0m\u001b[36;1m\u001b[1;3mno result returned\u001b[0mmetadata: {'user_id': '12345', 'task_id': 'abc123'}\n",
            "\u001b[32;1m\u001b[1;3mThe Python snippet has executed successfully and created a file named 'test.txt' with the content 'Hello, STELLAR' written in it. If you have any further instructions or need assistance with something else, feel free to ask!\u001b[0m\n",
            "\n",
            "\u001b[1m> Finished chain.\u001b[0m\n",
            "Result for query 7: {'input': \"Write a Python snippet to create a file named 'test.txt' and write 'Hello, STELLAR' in it.\", 'metadata': {'user_id': '12345', 'task_id': 'abc123'}, 'output': \"The Python snippet has executed successfully and created a file named 'test.txt' with the content 'Hello, STELLAR' written in it. If you have any further instructions or need assistance with something else, feel free to ask!\", 'intermediate_steps': [(ToolAgentAction(tool='custom_python_repl', tool_input={'code': \"with open('test.txt', 'w') as file:\\n    file.write('Hello, STELLAR')\"}, log='\\nInvoking: `custom_python_repl` with `{\\'code\\': \"with open(\\'test.txt\\', \\'w\\') as file:\\\\n    file.write(\\'Hello, STELLAR\\')\"}`\\n\\n\\n', message_log=[AIMessageChunk(content='', additional_kwargs={'tool_calls': [{'index': 0, 'id': 'call_2hQgn9WKVLvcAjkpr7LZTK0K', 'function': {'arguments': '{\"code\":\"with open(\\'test.txt\\', \\'w\\') as file:\\\\n    file.write(\\'Hello, STELLAR\\')\"}', 'name': 'custom_python_repl'}, 'type': 'function'}]}, response_metadata={'finish_reason': 'tool_calls', 'model_name': 'gpt-4o-mini-2024-07-18', 'system_fingerprint': 'fp_f3927aa00d'}, id='run-edc70027-cb95-4cb2-9f62-84f44155d749', tool_calls=[{'name': 'custom_python_repl', 'args': {'code': \"with open('test.txt', 'w') as file:\\n    file.write('Hello, STELLAR')\"}, 'id': 'call_2hQgn9WKVLvcAjkpr7LZTK0K', 'type': 'tool_call'}], tool_call_chunks=[{'name': 'custom_python_repl', 'args': '{\"code\":\"with open(\\'test.txt\\', \\'w\\') as file:\\\\n    file.write(\\'Hello, STELLAR\\')\"}', 'id': 'call_2hQgn9WKVLvcAjkpr7LZTK0K', 'index': 0, 'type': 'tool_call_chunk'}])], tool_call_id='call_2hQgn9WKVLvcAjkpr7LZTK0K'), 'no result returned')]}\n",
            "\n",
            "================================================== End of Query 7 ==================================================\n",
            "\n"
          ]
        }
      ]
    },
    {
      "cell_type": "code",
      "source": [
        "res1"
      ],
      "metadata": {
        "colab": {
          "base_uri": "https://localhost:8080/"
        },
        "id": "76HOY9KlSLED",
        "outputId": "79f9de3e-e05c-456a-db83-a9fd8f3c1fd4"
      },
      "execution_count": null,
      "outputs": [
        {
          "output_type": "execute_result",
          "data": {
            "text/plain": [
              "{'input': \"Convert 'hello world' to uppercase.\",\n",
              " 'metadata': {'user_id': '12345', 'task_id': 'abc123'},\n",
              " 'output': \"The phrase 'hello world' in uppercase is: **HELLO WORLD**.\",\n",
              " 'intermediate_steps': [(ToolAgentAction(tool='custom_python_repl', tool_input={'code': \"'hello world'.upper()\"}, log='\\nInvoking: `custom_python_repl` with `{\\'code\\': \"\\'hello world\\'.upper()\"}`\\n\\n\\n', message_log=[AIMessageChunk(content='', additional_kwargs={'tool_calls': [{'index': 0, 'id': 'call_Xx3DtbOxO3wrSSSOLSSVhxRG', 'function': {'arguments': '{\"code\":\"\\'hello world\\'.upper()\"}', 'name': 'custom_python_repl'}, 'type': 'function'}]}, response_metadata={'finish_reason': 'tool_calls', 'model_name': 'gpt-4o-mini-2024-07-18', 'system_fingerprint': 'fp_5154047bf2'}, id='run-4154d2c5-c3f4-4a51-ad8e-7f6a9705959a', tool_calls=[{'name': 'custom_python_repl', 'args': {'code': \"'hello world'.upper()\"}, 'id': 'call_Xx3DtbOxO3wrSSSOLSSVhxRG', 'type': 'tool_call'}], tool_call_chunks=[{'name': 'custom_python_repl', 'args': '{\"code\":\"\\'hello world\\'.upper()\"}', 'id': 'call_Xx3DtbOxO3wrSSSOLSSVhxRG', 'index': 0, 'type': 'tool_call_chunk'}])], tool_call_id='call_Xx3DtbOxO3wrSSSOLSSVhxRG'),\n",
              "   'HELLO WORLD')]}"
            ]
          },
          "metadata": {},
          "execution_count": 29
        }
      ]
    },
    {
      "cell_type": "code",
      "source": [
        "for i in output_store:\n",
        "  print(f\"DATA TYPE ==> {type(i)}\\nDATA CONTENT ==> {i} \\n-------------------------------------------\\n\")"
      ],
      "metadata": {
        "id": "oC7SvuEFLlOk"
      },
      "execution_count": null,
      "outputs": []
    },
    {
      "cell_type": "code",
      "source": [],
      "metadata": {
        "id": "7NAIN2m8pHg9"
      },
      "execution_count": null,
      "outputs": []
    }
  ]
}